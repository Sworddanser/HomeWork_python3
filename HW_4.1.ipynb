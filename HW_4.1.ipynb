{
 "cells": [
  {
   "cell_type": "code",
   "execution_count": 89,
   "metadata": {
    "collapsed": true
   },
   "outputs": [],
   "source": [
    "import pandas as pd\n",
    "\n",
    "import numpy as np\n",
    "\n",
    "import matplotlib.pyplot as plt\n",
    "\n",
    "import os.path\n",
    "import glob\n",
    "\n",
    "%matplotlib inline"
   ]
  },
  {
   "cell_type": "code",
   "execution_count": null,
   "metadata": {
    "collapsed": true
   },
   "outputs": [],
   "source": [
    "DATA_PATH = 'C:\\Users\\Faqer\\Desktop\\python\\HW\\jupiter\\data'"
   ]
  },
  {
   "cell_type": "code",
   "execution_count": 194,
   "metadata": {
    "collapsed": true
   },
   "outputs": [],
   "source": [
    "COLS = ['Name','Gender','Count']"
   ]
  },
  {
   "cell_type": "code",
   "execution_count": 211,
   "metadata": {},
   "outputs": [],
   "source": [
    "def get_data (year):\n",
    "    file_name = 'yob'+ str(year) +'.txt'\n",
    "    names = pd.read_csv(os.path.join(DATA_PATH + file_name), names=COLS)\n",
    "    return names"
   ]
  },
  {
   "cell_type": "code",
   "execution_count": 291,
   "metadata": {},
   "outputs": [],
   "source": [
    "def data_top3(years):\n",
    "    name = []\n",
    "    for year in years:\n",
    "        name_o = get_data(year)\n",
    "        name.append(name_o)\n",
    "    all_names = pd.concat(name)\n",
    "    top_tree_names=[]\n",
    "    top_tree_names_b = all_names.groupby('Name').sum().sort_values(by='Count', ascending=False).head(3)\n",
    "    for i in top_tree_names_b.index:  # нfверняка есть менее ужасающий способ полкчения колонки в виде списка, не подскажите какой?\n",
    "        top_tree_names.append(i)\n",
    "    return top_tree_names"
   ]
  },
  {
   "cell_type": "code",
   "execution_count": 292,
   "metadata": {
    "collapsed": true
   },
   "outputs": [],
   "source": [
    "def geng(years):\n",
    "    f_m = {\n",
    "    'F': [],\n",
    "    'M': []\n",
    "    }\n",
    "\n",
    "    for year in years:\n",
    "        qqq = get_data (year)\n",
    "        f_m['M'].append(qqq[qqq.Gender=='M'].Count.sum())\n",
    "        f_m['F'].append(qqq[qqq.Gender=='F'].Count.sum())\n",
    "    return f_m"
   ]
  },
  {
   "cell_type": "code",
   "execution_count": 293,
   "metadata": {},
   "outputs": [
    {
     "data": {
      "text/plain": [
       "['Michael', 'Jennifer', 'Christopher']"
      ]
     },
     "execution_count": 293,
     "metadata": {},
     "output_type": "execute_result"
    }
   ],
   "source": [
    "count_top3 = data_top3([1980,1895])\n",
    "count_top3"
   ]
  },
  {
   "cell_type": "code",
   "execution_count": 294,
   "metadata": {},
   "outputs": [
    {
     "data": {
      "text/plain": [
       "{'F': [1660152, 233627], 'M': [1784266, 117396]}"
      ]
     },
     "execution_count": 294,
     "metadata": {},
     "output_type": "execute_result"
    }
   ],
   "source": [
    "count_dynamics = geng([1980,1895])\n",
    "count_dynamics"
   ]
  },
  {
   "cell_type": "code",
   "execution_count": 208,
   "metadata": {},
   "outputs": [],
   "source": [
    "# # для проверки!\n",
    "# def get_data (year):\n",
    "#     file_name = 'yob'+ str(year) +'.txt'\n",
    "    \n",
    "#     names = pd.read_csv(os.path.join(DATA_PATH + file_name), names=COLS)\n",
    "\n",
    "#     return names\n",
    "\n",
    "# d = get_data(1900)\n",
    "# d.head(10)\n",
    "# q = [get_data (year) for year in range(1880, 2016)]\n",
    "# a = pd.concat(q)\n",
    "# a.to_csv(DATA_PATH + 'a.csv', index=False) #сохранение в фаил"
   ]
  }
 ],
 "metadata": {
  "kernelspec": {
   "display_name": "Python 3",
   "language": "python",
   "name": "python3"
  },
  "language_info": {
   "codemirror_mode": {
    "name": "ipython",
    "version": 3
   },
   "file_extension": ".py",
   "mimetype": "text/x-python",
   "name": "python",
   "nbconvert_exporter": "python",
   "pygments_lexer": "ipython3",
   "version": "3.6.1"
  }
 },
 "nbformat": 4,
 "nbformat_minor": 2
}
